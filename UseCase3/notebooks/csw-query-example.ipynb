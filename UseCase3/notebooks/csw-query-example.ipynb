{
 "cells": [
  {
   "cell_type": "markdown",
   "id": "275930b4",
   "metadata": {},
   "source": [
    "# Testing OGC CSW search against the CVL catalogue"
   ]
  },
  {
   "cell_type": "markdown",
   "id": "58db0f2c",
   "metadata": {},
   "source": [
    "**Warning: still working on the end point setup and content**\n",
    "\n",
    "The purpose of this Notebook is to show how the machine end point for the CVL catalogue can be queried for relevant datasets. This setup can be integrated into a more comprehensive Notebook or Python programme.\n",
    "\n",
    "Some relevant information on how to utilise OGC CSW is provided at e.g. https://gist.github.com/kalxas/6ecb06d61cdd487dc7f9 or https://ioos.github.io/ioos_code_lab/content/code_gallery/data_access_notebooks/2016-12-19-exploring_csw.html. Details on the features of the software used for the endpoint (pyCSW) is provided at https://pycsw.org/ with a FAQ at https://pycsw.org/faq/. Some simple examples of how to use OWSLib for this purpose is provided in https://geopython.github.io/OWSLib/usage.html#csw."
   ]
  },
  {
   "cell_type": "markdown",
   "id": "c71f4ede",
   "metadata": {},
   "source": [
    "First we have to import OWSLib as we use this to set up the query."
   ]
  },
  {
   "cell_type": "code",
   "execution_count": 1,
   "id": "3cfc9401",
   "metadata": {},
   "outputs": [],
   "source": [
    "from owslib.csw import CatalogueServiceWeb"
   ]
  },
  {
   "cell_type": "markdown",
   "id": "48c668be",
   "metadata": {},
   "source": [
    "Set up connection to the end point for CVL services."
   ]
  },
  {
   "cell_type": "code",
   "execution_count": 66,
   "id": "1eebb7de",
   "metadata": {},
   "outputs": [],
   "source": [
    "csw = CatalogueServiceWeb('https://cvl.csw.met.no/csw')"
   ]
  },
  {
   "cell_type": "markdown",
   "id": "fdfdd6b4",
   "metadata": {},
   "source": [
    "Import further elements from OWSLib that are required below."
   ]
  },
  {
   "cell_type": "code",
   "execution_count": 79,
   "id": "3623f75e",
   "metadata": {},
   "outputs": [],
   "source": [
    "from owslib.fes import PropertyIsLike, PropertyIsLessThanOrEqualTo, PropertyIsGreaterThanOrEqualTo, BBox, And"
   ]
  },
  {
   "cell_type": "markdown",
   "id": "d87d48ea",
   "metadata": {},
   "source": [
    "First a general query for records containing the Sentinel-2 is done. We search for data north of 50N, but south of 90N and east of 0E, but west of 25E and only data for the period 2020-02-01 - 2020-06-30. These filters are combined using the operator \"And\" to ensure that all filters are applied when searching.\n",
    "\n",
    "Concerning the Bounding Box, the specification of this is a bit counter intuitive (at least for many) in the sense that it follows the approach of lower left and upper right corners specified using latitude, longitude order (i.e. Y then X).\n",
    "\n",
    "If results are required in the response, add resulttype=results to the request.\n",
    "\n",
    "The default output from OWSLib is Dublin Core, to make sure a proper document is returned, add outputschema as indicated below. then you will get a full ISO19115 record."
   ]
  },
  {
   "cell_type": "code",
   "execution_count": 80,
   "id": "08a41a08",
   "metadata": {},
   "outputs": [],
   "source": [
    "# BBox lat1, lon1, lat2, lon2\n",
    "mybboxq = BBox([50,0,90,25],crs=\"urn:ogc:def:crs:EPSG:4326\")\n",
    "mytitleq = PropertyIsLike('apiso:Abstract','%SENTINEL-2%')\n",
    "mystart = PropertyIsGreaterThanOrEqualTo('apiso:TempExtent_begin','2020-02-01')\n",
    "myend = PropertyIsLessThanOrEqualTo('apiso:TempExtent_end','2020-06-30')\n",
    "myfilters = [And([mytitleq, mybboxq, mystart, myend])]\n",
    "\n",
    "csw.getrecords2(constraints=myfilters, maxrecords=20, outputschema=\"http://www.isotc211.org/2005/gmd\")"
   ]
  },
  {
   "cell_type": "markdown",
   "id": "56f7e9d6",
   "metadata": {},
   "source": [
    "The results are shown below. It is evident that 510 records (datasets) contain this word in the title."
   ]
  },
  {
   "cell_type": "code",
   "execution_count": 77,
   "id": "61e1ba4b",
   "metadata": {},
   "outputs": [
    {
     "data": {
      "text/plain": [
       "{'matches': 0, 'returned': 0, 'nextrecord': 0}"
      ]
     },
     "execution_count": 77,
     "metadata": {},
     "output_type": "execute_result"
    }
   ],
   "source": [
    "csw.results"
   ]
  },
  {
   "cell_type": "markdown",
   "id": "960ba9f1",
   "metadata": {},
   "source": [
    "As only the list is returned, we need to loop through this and check the contents, e.g. by listing identifiers and title."
   ]
  },
  {
   "cell_type": "code",
   "execution_count": 81,
   "id": "1dfc1da8",
   "metadata": {},
   "outputs": [],
   "source": [
    "for rec in csw.records:   \n",
    "    print(rec)\n",
    "    print(csw.record[rec].xml)"
   ]
  },
  {
   "cell_type": "markdown",
   "id": "984eeb6e",
   "metadata": {},
   "source": [
    "In order to check a specific record, retrieve its content using DescribeRecord."
   ]
  },
  {
   "cell_type": "code",
   "execution_count": null,
   "id": "62940e51",
   "metadata": {},
   "outputs": [],
   "source": []
  }
 ],
 "metadata": {
  "kernelspec": {
   "display_name": "Python 3",
   "language": "python",
   "name": "python3"
  },
  "language_info": {
   "codemirror_mode": {
    "name": "ipython",
    "version": 3
   },
   "file_extension": ".py",
   "mimetype": "text/x-python",
   "name": "python",
   "nbconvert_exporter": "python",
   "pygments_lexer": "ipython3",
   "version": "3.8.10"
  }
 },
 "nbformat": 4,
 "nbformat_minor": 5
}
