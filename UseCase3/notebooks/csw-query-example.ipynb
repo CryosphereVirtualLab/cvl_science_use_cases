{
 "cells": [
  {
   "cell_type": "markdown",
   "id": "275930b4",
   "metadata": {},
   "source": [
    "# Testing OGC CSW search against the CVL catalogue"
   ]
  },
  {
   "cell_type": "markdown",
   "id": "58db0f2c",
   "metadata": {},
   "source": [
    "**Warning: still working on the end point setup and content**\n",
    "\n",
    "The purpose of this Notebook is to show how the machine end point for the CVL catalogue can be queried for relevant datasets. This setup can be integrated into a more comprehensive Notebook or Python programme.\n",
    "\n",
    "Some relevant information on how to utilise OGC CSW is provided at e.g. https://gist.github.com/kalxas/6ecb06d61cdd487dc7f9 or https://ioos.github.io/ioos_code_lab/content/code_gallery/data_access_notebooks/2016-12-19-exploring_csw.html. Details on the features of the software used for the endpoint (pyCSW) is provided at https://pycsw.org/ with a FAQ at https://pycsw.org/faq/. Some simple examples of how to use OWSLib for this purpose is provided in https://geopython.github.io/OWSLib/usage.html#csw."
   ]
  },
  {
   "cell_type": "markdown",
   "id": "c71f4ede",
   "metadata": {},
   "source": [
    "First we have to import OWSLib as we use this to set up the query."
   ]
  },
  {
   "cell_type": "code",
   "execution_count": 2,
   "id": "3cfc9401",
   "metadata": {},
   "outputs": [],
   "source": [
    "from owslib.csw import CatalogueServiceWeb"
   ]
  },
  {
   "cell_type": "markdown",
   "id": "48c668be",
   "metadata": {},
   "source": [
    "Set up connection to the end point for CVL services."
   ]
  },
  {
   "cell_type": "code",
   "execution_count": 3,
   "id": "1eebb7de",
   "metadata": {},
   "outputs": [],
   "source": [
    "csw = CatalogueServiceWeb('https://nbs.csw.met.no/csw')"
   ]
  },
  {
   "cell_type": "markdown",
   "id": "fdfdd6b4",
   "metadata": {},
   "source": [
    "Import further elements from OWSLib that are required below."
   ]
  },
  {
   "cell_type": "code",
   "execution_count": 4,
   "id": "3623f75e",
   "metadata": {},
   "outputs": [],
   "source": [
    "from owslib.fes import PropertyIsLike, PropertyIsLessThanOrEqualTo, PropertyIsGreaterThanOrEqualTo, BBox, And"
   ]
  },
  {
   "cell_type": "markdown",
   "id": "d87d48ea",
   "metadata": {},
   "source": [
    "First a general query for records containing the Sentinel-2 is done. We search for data north of 50N, but south of 90N and east of 0E, but west of 25E and only data for the period 2020-02-01 - 2020-06-30. These filters are combined using the operator \"And\" to ensure that all filters are applied when searching.\n",
    "\n",
    "Concerning the Bounding Box, the specification of this is a bit counter intuitive (at least for many) in the sense that it follows the approach of lower left and upper right corners specified using latitude, longitude order (i.e. Y then X).\n",
    "\n",
    "If results are required in the response, add resulttype=results to the request.\n",
    "\n",
    "The default output from OWSLib is Dublin Core, to make sure a proper document is returned, add outputschema as indicated below. then you will get a full ISO19115 record."
   ]
  },
  {
   "cell_type": "code",
   "execution_count": 5,
   "id": "08a41a08",
   "metadata": {},
   "outputs": [
    {
     "name": "stderr",
     "output_type": "stream",
     "text": [
      "/disk1/software/python-packages/lib/python3.8/site-packages/owslib/iso.py:118: FutureWarning: the .identification and .serviceidentification properties will merge into .identification being a list of properties.  This is currently implemented in .identificationinfo.  Please see https://github.com/geopython/OWSLib/issues/38 for more information\n",
      "  warnings.warn(\n",
      "/disk1/software/python-packages/lib/python3.8/site-packages/owslib/iso.py:570: FutureWarning: The .keywords and .keywords2 properties will merge into the .keywords property in the future, with .keywords becoming a list of MD_Keywords instances. This is currently implemented in .keywords2. Please see https://github.com/geopython/OWSLib/issues/301 for more information\n",
      "  warnings.warn(\n"
     ]
    }
   ],
   "source": [
    "# BBox lat1, lon1, lat2, lon2\n",
    "mybboxq = BBox([50,0,90,25],crs=\"urn:ogc:def:crs:EPSG:4326\")\n",
    "mytitleq = PropertyIsLike('apiso:Abstract','%SENTINEL-2%')\n",
    "mystart = PropertyIsGreaterThanOrEqualTo('apiso:TempExtent_begin','2020-02-01')\n",
    "myend = PropertyIsLessThanOrEqualTo('apiso:TempExtent_end','2020-06-30')\n",
    "myfilters = [And([mytitleq, mybboxq, mystart, myend])]\n",
    "\n",
    "csw.getrecords2(constraints=myfilters, maxrecords=20, outputschema=\"http://www.isotc211.org/2005/gmd\")"
   ]
  },
  {
   "cell_type": "markdown",
   "id": "56f7e9d6",
   "metadata": {},
   "source": [
    "The results are shown below. It is evident that 510 records (datasets) contain this word in the title."
   ]
  },
  {
   "cell_type": "code",
   "execution_count": 8,
   "id": "61e1ba4b",
   "metadata": {},
   "outputs": [
    {
     "data": {
      "text/plain": [
       "{'matches': 80180, 'returned': 10, 'nextrecord': 11}"
      ]
     },
     "execution_count": 8,
     "metadata": {},
     "output_type": "execute_result"
    }
   ],
   "source": [
    "csw.results"
   ]
  },
  {
   "cell_type": "markdown",
   "id": "960ba9f1",
   "metadata": {},
   "source": [
    "As only the list is returned, we need to loop through this and check the contents, e.g. by listing identifiers and title."
   ]
  },
  {
   "cell_type": "code",
   "execution_count": 22,
   "id": "55fe19e9",
   "metadata": {},
   "outputs": [],
   "source": [
    "import xmltodict"
   ]
  },
  {
   "cell_type": "code",
   "execution_count": 24,
   "id": "1dfc1da8",
   "metadata": {},
   "outputs": [],
   "source": [
    "for rec in csw.records:   \n",
    "    #print(dir(csw.records[rec]))\n",
    "    #print(csw.records[rec].xml)\n",
    "    mydoc = xmltodict.parse(csw.records[rec].xml)"
   ]
  },
  {
   "cell_type": "code",
   "execution_count": 32,
   "id": "790066dd",
   "metadata": {},
   "outputs": [
    {
     "data": {
      "text/plain": [
       "OrderedDict([('@xmlns:gmd', 'http://www.isotc211.org/2005/gmd'),\n",
       "             ('@xmlns:xsi', 'http://www.w3.org/2001/XMLSchema-instance'),\n",
       "             ('@xmlns:csw', 'http://www.opengis.net/cat/csw/2.0.2'),\n",
       "             ('@xmlns:dc', 'http://purl.org/dc/elements/1.1/'),\n",
       "             ('@xmlns:dct', 'http://purl.org/dc/terms/'),\n",
       "             ('@xmlns:gml', 'http://www.opengis.net/gml'),\n",
       "             ('@xmlns:ows', 'http://www.opengis.net/ows'),\n",
       "             ('@xmlns:xs', 'http://www.w3.org/2001/XMLSchema'),\n",
       "             ('@xmlns:gco', 'http://www.isotc211.org/2005/gco'),\n",
       "             ('@xsi:schemaLocation',\n",
       "              'http://www.isotc211.org/2005/gmd http://schemas.opengis.net/csw/2.0.2/profiles/apiso/1.0.0/apiso.xsd'),\n",
       "             ('gmd:fileIdentifier',\n",
       "              OrderedDict([('gco:CharacterString',\n",
       "                            'S2B_MSIL1C_20200201T111159_N0208_R137_T31VDF_20200201T112541')])),\n",
       "             ('gmd:language', OrderedDict([('gco:CharacterString', None)])),\n",
       "             ('gmd:hierarchyLevel',\n",
       "              OrderedDict([('gmd:MD_ScopeCode',\n",
       "                            OrderedDict([('@codeSpace', 'ISOTC211/19115'),\n",
       "                                         ('@codeList',\n",
       "                                          'http://www.isotc211.org/2005/resources/Codelist/gmxCodelists.xml#MD_ScopeCode'),\n",
       "                                         ('@codeListValue', 'dataset'),\n",
       "                                         ('#text', 'dataset')]))])),\n",
       "             ('gmd:contact', None),\n",
       "             ('gmd:dateStamp',\n",
       "              OrderedDict([('gco:DateTime', '2021-06-17T18:41:41Z')])),\n",
       "             ('gmd:metadataStandardName',\n",
       "              OrderedDict([('gco:CharacterString', 'ISO19115')])),\n",
       "             ('gmd:metadataStandardVersion',\n",
       "              OrderedDict([('gco:CharacterString', '2003/Cor.1:2006')])),\n",
       "             ('gmd:identificationInfo',\n",
       "              OrderedDict([('gmd:MD_DataIdentification',\n",
       "                            OrderedDict([('@id',\n",
       "                                          'S2B_MSIL1C_20200201T111159_N0208_R137_T31VDF_20200201T112541'),\n",
       "                                         ('gmd:citation',\n",
       "                                          OrderedDict([('gmd:CI_Citation',\n",
       "                                                        OrderedDict([('gmd:title',\n",
       "                                                                      OrderedDict([('gco:CharacterString',\n",
       "                                                                                    'Date: 2020-02-01T11:11:59.024Z, Instrument: MSI, Mode: , Satellite: Sentinel-2, Size: 526.96 MB')])),\n",
       "                                                                     ('gmd:date',\n",
       "                                                                      OrderedDict([('gmd:CI_Date',\n",
       "                                                                                    OrderedDict([('gmd:date',\n",
       "                                                                                                  OrderedDict([('gco:DateTime',\n",
       "                                                                                                                '2021-06-17T18:41:41Z')])),\n",
       "                                                                                                 ('gmd:dateType',\n",
       "                                                                                                  OrderedDict([('gmd:CI_DateTypeCode',\n",
       "                                                                                                                OrderedDict([('@codeSpace',\n",
       "                                                                                                                              'ISOTC211/19115'),\n",
       "                                                                                                                             ('@codeList',\n",
       "                                                                                                                              'http://www.isotc211.org/2005/resources/Codelist/gmxCodelists.xml#CI_DateTypeCode'),\n",
       "                                                                                                                             ('@codeListValue',\n",
       "                                                                                                                              'revision'),\n",
       "                                                                                                                             ('#text',\n",
       "                                                                                                                              'revision')]))]))]))]))]))])),\n",
       "                                         ('gmd:abstract',\n",
       "                                          OrderedDict([('gco:CharacterString',\n",
       "                                                        'Each of the satellites in the SENTINEL-2 mission carries a single payload: the Multi-Spectral Instrument (MSI).')])),\n",
       "                                         ('gmd:descriptiveKeywords',\n",
       "                                          OrderedDict([('gmd:MD_Keywords',\n",
       "                                                        OrderedDict([('gmd:keyword',\n",
       "                                                                      OrderedDict([('gco:CharacterString',\n",
       "                                                                                    'Earth Science > Atmosphere > Atmospheric radiation > Reflectance')]))]))])),\n",
       "                                         ('gmd:language',\n",
       "                                          OrderedDict([('gco:CharacterString',\n",
       "                                                        'eng')])),\n",
       "                                         ('gmd:topicCategory',\n",
       "                                          OrderedDict([('gmd:MD_TopicCategoryCode',\n",
       "                                                        'climatologyMeteorologyAtmosphere')])),\n",
       "                                         ('gmd:extent',\n",
       "                                          OrderedDict([('gmd:EX_Extent',\n",
       "                                                        OrderedDict([('gmd:geographicElement',\n",
       "                                                                      OrderedDict([('gmd:EX_GeographicBoundingBox',\n",
       "                                                                                    OrderedDict([('gmd:westBoundLongitude',\n",
       "                                                                                                  OrderedDict([('gco:Decimal',\n",
       "                                                                                                                '1.23')])),\n",
       "                                                                                                 ('gmd:eastBoundLongitude',\n",
       "                                                                                                  OrderedDict([('gco:Decimal',\n",
       "                                                                                                                '3.17')])),\n",
       "                                                                                                 ('gmd:southBoundLatitude',\n",
       "                                                                                                  OrderedDict([('gco:Decimal',\n",
       "                                                                                                                '58.66')])),\n",
       "                                                                                                 ('gmd:northBoundLatitude',\n",
       "                                                                                                  OrderedDict([('gco:Decimal',\n",
       "                                                                                                                '59.54')]))]))]))]))]))]))])),\n",
       "             ('gmd:distributionInfo',\n",
       "              OrderedDict([('gmd:MD_Distribution',\n",
       "                            OrderedDict([('gmd:transferOptions',\n",
       "                                          OrderedDict([('gmd:MD_DigitalTransferOptions',\n",
       "                                                        OrderedDict([('gmd:onLine',\n",
       "                                                                      [OrderedDict([('gmd:CI_OnlineResource',\n",
       "                                                                                     OrderedDict([('gmd:linkage',\n",
       "                                                                                                   OrderedDict([('gmd:URL',\n",
       "                                                                                                                 'http://nbstds.met.no/thredds/dodsC/NBS/S2B/2020/02/01/S2B_MSIL1C_20200201T111159_N0208_R137_T31VDF_20200201T112541.nc')])),\n",
       "                                                                                                  ('gmd:protocol',\n",
       "                                                                                                   OrderedDict([('gco:CharacterString',\n",
       "                                                                                                                 'OPENDAP:OPENDAP')])),\n",
       "                                                                                                  ('gmd:name',\n",
       "                                                                                                   OrderedDict([('gco:CharacterString',\n",
       "                                                                                                                 None)])),\n",
       "                                                                                                  ('gmd:description',\n",
       "                                                                                                   OrderedDict([('gco:CharacterString',\n",
       "                                                                                                                 'Open-source Project for a Network Data Access Protocol.')]))]))]),\n",
       "                                                                       OrderedDict([('gmd:CI_OnlineResource',\n",
       "                                                                                     OrderedDict([('gmd:linkage',\n",
       "                                                                                                   OrderedDict([('gmd:URL',\n",
       "                                                                                                                 'http://nbswms.met.no/thredds/wms_ql/NBS/S2B/2020/02/01/S2B_MSIL1C_20200201T111159_N0208_R137_T31VDF_20200201T112541.nc?SERVICE=WMS&REQUEST=GetCapabilities')])),\n",
       "                                                                                                  ('gmd:protocol',\n",
       "                                                                                                   OrderedDict([('gco:CharacterString',\n",
       "                                                                                                                 'OGC:WMS')])),\n",
       "                                                                                                  ('gmd:name',\n",
       "                                                                                                   OrderedDict([('gco:CharacterString',\n",
       "                                                                                                                 None)])),\n",
       "                                                                                                  ('gmd:description',\n",
       "                                                                                                   OrderedDict([('gco:CharacterString',\n",
       "                                                                                                                 'OGC Web Mapping Service, URI to GetCapabilities Document.')]))]))]),\n",
       "                                                                       OrderedDict([('gmd:CI_OnlineResource',\n",
       "                                                                                     OrderedDict([('gmd:linkage',\n",
       "                                                                                                   OrderedDict([('gmd:URL',\n",
       "                                                                                                                 'http://nbstds.met.no/thredds/fileServer/NBS/S2B/2020/02/01/S2B_MSIL1C_20200201T111159_N0208_R137_T31VDF_20200201T112541.nc')])),\n",
       "                                                                                                  ('gmd:protocol',\n",
       "                                                                                                   OrderedDict([('gco:CharacterString',\n",
       "                                                                                                                 'download')])),\n",
       "                                                                                                  ('gmd:name',\n",
       "                                                                                                   OrderedDict([('gco:CharacterString',\n",
       "                                                                                                                 None)])),\n",
       "                                                                                                  ('gmd:description',\n",
       "                                                                                                   OrderedDict([('gco:CharacterString',\n",
       "                                                                                                                 'Direct access to the full data file. May require authentication, but should point directly to the data file or a catalogue containing the data.')]))]))]),\n",
       "                                                                       OrderedDict([('gmd:CI_OnlineResource',\n",
       "                                                                                     OrderedDict([('gmd:linkage',\n",
       "                                                                                                   OrderedDict([('gmd:URL',\n",
       "                                                                                                                 \"https://colhub.met.no/odata/v1/Products('35c87e3f-54c6-4044-b71c-06b4de7ff4fd')/$value\")])),\n",
       "                                                                                                  ('gmd:protocol',\n",
       "                                                                                                   OrderedDict([('gco:CharacterString',\n",
       "                                                                                                                 None)])),\n",
       "                                                                                                  ('gmd:name',\n",
       "                                                                                                   OrderedDict([('gco:CharacterString',\n",
       "                                                                                                                 None)])),\n",
       "                                                                                                  ('gmd:description',\n",
       "                                                                                                   OrderedDict([('gco:CharacterString',\n",
       "                                                                                                                 'Open Data Protocol.')]))]))])])]))]))]))]))])"
      ]
     },
     "execution_count": 32,
     "metadata": {},
     "output_type": "execute_result"
    }
   ],
   "source": [
    "mydoc['gmd:MD_Metadata']"
   ]
  },
  {
   "cell_type": "code",
   "execution_count": 33,
   "id": "0b14de98",
   "metadata": {},
   "outputs": [
    {
     "data": {
      "text/plain": [
       "OrderedDict([('@id',\n",
       "              'S2B_MSIL1C_20200201T111159_N0208_R137_T31VDF_20200201T112541'),\n",
       "             ('gmd:citation',\n",
       "              OrderedDict([('gmd:CI_Citation',\n",
       "                            OrderedDict([('gmd:title',\n",
       "                                          OrderedDict([('gco:CharacterString',\n",
       "                                                        'Date: 2020-02-01T11:11:59.024Z, Instrument: MSI, Mode: , Satellite: Sentinel-2, Size: 526.96 MB')])),\n",
       "                                         ('gmd:date',\n",
       "                                          OrderedDict([('gmd:CI_Date',\n",
       "                                                        OrderedDict([('gmd:date',\n",
       "                                                                      OrderedDict([('gco:DateTime',\n",
       "                                                                                    '2021-06-17T18:41:41Z')])),\n",
       "                                                                     ('gmd:dateType',\n",
       "                                                                      OrderedDict([('gmd:CI_DateTypeCode',\n",
       "                                                                                    OrderedDict([('@codeSpace',\n",
       "                                                                                                  'ISOTC211/19115'),\n",
       "                                                                                                 ('@codeList',\n",
       "                                                                                                  'http://www.isotc211.org/2005/resources/Codelist/gmxCodelists.xml#CI_DateTypeCode'),\n",
       "                                                                                                 ('@codeListValue',\n",
       "                                                                                                  'revision'),\n",
       "                                                                                                 ('#text',\n",
       "                                                                                                  'revision')]))]))]))]))]))])),\n",
       "             ('gmd:abstract',\n",
       "              OrderedDict([('gco:CharacterString',\n",
       "                            'Each of the satellites in the SENTINEL-2 mission carries a single payload: the Multi-Spectral Instrument (MSI).')])),\n",
       "             ('gmd:descriptiveKeywords',\n",
       "              OrderedDict([('gmd:MD_Keywords',\n",
       "                            OrderedDict([('gmd:keyword',\n",
       "                                          OrderedDict([('gco:CharacterString',\n",
       "                                                        'Earth Science > Atmosphere > Atmospheric radiation > Reflectance')]))]))])),\n",
       "             ('gmd:language', OrderedDict([('gco:CharacterString', 'eng')])),\n",
       "             ('gmd:topicCategory',\n",
       "              OrderedDict([('gmd:MD_TopicCategoryCode',\n",
       "                            'climatologyMeteorologyAtmosphere')])),\n",
       "             ('gmd:extent',\n",
       "              OrderedDict([('gmd:EX_Extent',\n",
       "                            OrderedDict([('gmd:geographicElement',\n",
       "                                          OrderedDict([('gmd:EX_GeographicBoundingBox',\n",
       "                                                        OrderedDict([('gmd:westBoundLongitude',\n",
       "                                                                      OrderedDict([('gco:Decimal',\n",
       "                                                                                    '1.23')])),\n",
       "                                                                     ('gmd:eastBoundLongitude',\n",
       "                                                                      OrderedDict([('gco:Decimal',\n",
       "                                                                                    '3.17')])),\n",
       "                                                                     ('gmd:southBoundLatitude',\n",
       "                                                                      OrderedDict([('gco:Decimal',\n",
       "                                                                                    '58.66')])),\n",
       "                                                                     ('gmd:northBoundLatitude',\n",
       "                                                                      OrderedDict([('gco:Decimal',\n",
       "                                                                                    '59.54')]))]))]))]))]))])"
      ]
     },
     "execution_count": 33,
     "metadata": {},
     "output_type": "execute_result"
    }
   ],
   "source": [
    "mydoc['gmd:MD_Metadata']['gmd:identificationInfo']['gmd:MD_DataIdentification']\n",
    "#mydoc['gmd:MD_Metadata']['gmd:fileIdentifier']"
   ]
  }
 ],
 "metadata": {
  "kernelspec": {
   "display_name": "Python 3 (ipykernel)",
   "language": "python",
   "name": "python3"
  },
  "language_info": {
   "codemirror_mode": {
    "name": "ipython",
    "version": 3
   },
   "file_extension": ".py",
   "mimetype": "text/x-python",
   "name": "python",
   "nbconvert_exporter": "python",
   "pygments_lexer": "ipython3",
   "version": "3.8.10"
  }
 },
 "nbformat": 4,
 "nbformat_minor": 5
}
