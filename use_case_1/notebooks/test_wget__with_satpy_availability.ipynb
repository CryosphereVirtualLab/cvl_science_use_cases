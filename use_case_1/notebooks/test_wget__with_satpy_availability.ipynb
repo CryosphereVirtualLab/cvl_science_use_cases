{
 "cells": [
  {
   "cell_type": "code",
   "execution_count": null,
   "id": "medieval-tribune",
   "metadata": {},
   "outputs": [],
   "source": [
    "!wget --content-disposition --continue --user='user' --password='pass' \\\n",
    "\"https://scihub.copernicus.eu/dhus/odata/v1/Products('22e7af63-07ad-4076-8541-f6655388dc5e')/\\$value\"\n"
   ]
  },
  {
   "cell_type": "code",
   "execution_count": null,
   "id": "annoying-dominican",
   "metadata": {
    "scrolled": true
   },
   "outputs": [],
   "source": [
    "from satpy.scene import Scene\n",
    "from satpy import find_files_and_readers\n",
    "from datetime import datetime\n",
    " \n",
    "files = find_files_and_readers(base_dir=\".\")\n",
    "scn = Scene(filenames=files)\n",
    "scn.load(['true_color'])"
   ]
  }
 ],
 "metadata": {
  "kernelspec": {
   "display_name": "Python 3",
   "language": "python",
   "name": "python3"
  },
  "language_info": {
   "codemirror_mode": {
    "name": "ipython",
    "version": 3
   },
   "file_extension": ".py",
   "mimetype": "text/x-python",
   "name": "python",
   "nbconvert_exporter": "python",
   "pygments_lexer": "ipython3",
   "version": "3.8.5"
  }
 },
 "nbformat": 4,
 "nbformat_minor": 5
}
