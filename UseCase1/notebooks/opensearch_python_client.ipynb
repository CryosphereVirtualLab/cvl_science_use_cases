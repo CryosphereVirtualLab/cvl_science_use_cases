{
 "cells": [
  {
   "cell_type": "code",
   "execution_count": 1,
   "id": "second-launch",
   "metadata": {},
   "outputs": [
    {
     "name": "stdout",
     "output_type": "stream",
     "text": [
      "Requirement already satisfied: opensearch in /opt/conda/lib/python3.8/site-packages (0.9.2)\r\n"
     ]
    }
   ],
   "source": [
    "!pip install opensearch"
   ]
  },
  {
   "cell_type": "code",
   "execution_count": 2,
   "id": "surgical-accreditation",
   "metadata": {},
   "outputs": [
    {
     "ename": "ModuleNotFoundError",
     "evalue": "No module named 'description'",
     "output_type": "error",
     "traceback": [
      "\u001b[0;31m---------------------------------------------------------------------------\u001b[0m",
      "\u001b[0;31mModuleNotFoundError\u001b[0m                       Traceback (most recent call last)",
      "\u001b[0;32m<ipython-input-2-b6628c8dc3f6>\u001b[0m in \u001b[0;36m<module>\u001b[0;34m\u001b[0m\n\u001b[0;32m----> 1\u001b[0;31m \u001b[0;32mfrom\u001b[0m \u001b[0mopensearch\u001b[0m \u001b[0;32mimport\u001b[0m \u001b[0mClient\u001b[0m\u001b[0;34m\u001b[0m\u001b[0;34m\u001b[0m\u001b[0m\n\u001b[0m\u001b[1;32m      2\u001b[0m \u001b[0;34m\u001b[0m\u001b[0m\n\u001b[1;32m      3\u001b[0m \u001b[0mclient\u001b[0m \u001b[0;34m=\u001b[0m \u001b[0mClient\u001b[0m\u001b[0;34m(\u001b[0m\u001b[0;34m'https://scihub.copernicus.eu/apihub'\u001b[0m\u001b[0;34m)\u001b[0m\u001b[0;34m\u001b[0m\u001b[0;34m\u001b[0m\u001b[0m\n\u001b[1;32m      4\u001b[0m \u001b[0mresults\u001b[0m \u001b[0;34m=\u001b[0m \u001b[0mclient\u001b[0m\u001b[0;34m.\u001b[0m\u001b[0msearch\u001b[0m\u001b[0;34m(\u001b[0m\u001b[0;34m'zx81'\u001b[0m\u001b[0;34m)\u001b[0m\u001b[0;34m\u001b[0m\u001b[0;34m\u001b[0m\u001b[0m\n\u001b[1;32m      5\u001b[0m \u001b[0;34m\u001b[0m\u001b[0m\n",
      "\u001b[0;32m/opt/conda/lib/python3.8/site-packages/opensearch/__init__.py\u001b[0m in \u001b[0;36m<module>\u001b[0;34m\u001b[0m\n\u001b[0;32m----> 1\u001b[0;31m \u001b[0;32mfrom\u001b[0m \u001b[0mdescription\u001b[0m \u001b[0;32mimport\u001b[0m \u001b[0mDescription\u001b[0m\u001b[0;34m\u001b[0m\u001b[0;34m\u001b[0m\u001b[0m\n\u001b[0m\u001b[1;32m      2\u001b[0m \u001b[0;32mfrom\u001b[0m \u001b[0mquery\u001b[0m \u001b[0;32mimport\u001b[0m \u001b[0mQuery\u001b[0m\u001b[0;34m,\u001b[0m \u001b[0mParam\u001b[0m\u001b[0;34m\u001b[0m\u001b[0;34m\u001b[0m\u001b[0m\n\u001b[1;32m      3\u001b[0m \u001b[0;32mfrom\u001b[0m \u001b[0mclient\u001b[0m \u001b[0;32mimport\u001b[0m \u001b[0mClient\u001b[0m\u001b[0;34m\u001b[0m\u001b[0;34m\u001b[0m\u001b[0m\n\u001b[1;32m      4\u001b[0m \u001b[0;32mfrom\u001b[0m \u001b[0mresults\u001b[0m \u001b[0;32mimport\u001b[0m \u001b[0mResults\u001b[0m\u001b[0;34m\u001b[0m\u001b[0;34m\u001b[0m\u001b[0m\n",
      "\u001b[0;31mModuleNotFoundError\u001b[0m: No module named 'description'"
     ]
    }
   ],
   "source": [
    "from opensearch import Client\n",
    "\n",
    "client = Client('https://scihub.copernicus.eu/apihub')\n",
    "results = client.search('zx81')\n",
    "\n",
    "for result in results:\n",
    "    print (result.title, result.link)"
   ]
  },
  {
   "cell_type": "code",
   "execution_count": 4,
   "id": "closed-affiliate",
   "metadata": {},
   "outputs": [
    {
     "name": "stdout",
     "output_type": "stream",
     "text": [
      "Requirement already satisfied: pyops in /opt/conda/lib/python3.8/site-packages (0.0.2)\r\n",
      "Requirement already satisfied: requests in /opt/conda/lib/python3.8/site-packages (from pyops) (2.25.1)\r\n",
      "Requirement already satisfied: chardet<5,>=3.0.2 in /opt/conda/lib/python3.8/site-packages (from requests->pyops) (4.0.0)\r\n",
      "Requirement already satisfied: idna<3,>=2.5 in /opt/conda/lib/python3.8/site-packages (from requests->pyops) (2.10)\r\n",
      "Requirement already satisfied: certifi>=2017.4.17 in /opt/conda/lib/python3.8/site-packages (from requests->pyops) (2020.12.5)\r\n",
      "Requirement already satisfied: urllib3<1.27,>=1.21.1 in /opt/conda/lib/python3.8/site-packages (from requests->pyops) (1.25.10)\r\n"
     ]
    }
   ],
   "source": [
    "!pip install pyops\n",
    "import pyops"
   ]
  },
  {
   "cell_type": "code",
   "execution_count": 5,
   "id": "previous-belgium",
   "metadata": {},
   "outputs": [
    {
     "name": "stderr",
     "output_type": "stream",
     "text": [
      "syntax error: line 22, column 3\n",
      "Traceback (most recent call last):\n",
      "  File \"/opt/conda/lib/python3.8/site-packages/pyops/core.py\", line 128, in _get_search_template\n",
      "    tree = eltree.parse(read_io(r.content))\n",
      "  File \"/opt/conda/lib/python3.8/xml/etree/ElementTree.py\", line 1202, in parse\n",
      "    tree.parse(source, parser)\n",
      "  File \"/opt/conda/lib/python3.8/xml/etree/ElementTree.py\", line 595, in parse\n",
      "    self._root = parser._parse_whole(source)\n",
      "  File \"<string>\", line None\n",
      "xml.etree.ElementTree.ParseError: syntax error: line 22, column 3\n",
      "expected string or bytes-like object\n",
      "Traceback (most recent call last):\n",
      "  File \"/opt/conda/lib/python3.8/site-packages/pyops/core.py\", line 169, in _get_search_params\n",
      "    tags = re.findall('\\{[\\w\\:\\?]+\\}', self.search_template_url)\n",
      "  File \"/opt/conda/lib/python3.8/re.py\", line 241, in findall\n",
      "    return _compile(pattern, flags).findall(string)\n",
      "TypeError: expected string or bytes-like object\n",
      "'NoneType' object has no attribute 'startswith'\n",
      "Traceback (most recent call last):\n",
      "  File \"/opt/conda/lib/python3.8/site-packages/pyops/core.py\", line 300, in search\n",
      "    if force_HTTPS and self.search_url.startswith('http://'):\n",
      "AttributeError: 'NoneType' object has no attribute 'startswith'\n"
     ]
    }
   ],
   "source": [
    "client_= pyops.Client(description_xml_url='https://scihub.copernicus.eu/dhus')\n",
    "\n",
    "# authenticated search\n",
    "raw_results = client_.search(auth=('username', 'password'))"
   ]
  },
  {
   "cell_type": "code",
   "execution_count": null,
   "id": "straight-robin",
   "metadata": {},
   "outputs": [],
   "source": []
  }
 ],
 "metadata": {
  "kernelspec": {
   "display_name": "Python 3",
   "language": "python",
   "name": "python3"
  },
  "language_info": {
   "codemirror_mode": {
    "name": "ipython",
    "version": 3
   },
   "file_extension": ".py",
   "mimetype": "text/x-python",
   "name": "python",
   "nbconvert_exporter": "python",
   "pygments_lexer": "ipython3",
   "version": "3.8.5"
  }
 },
 "nbformat": 4,
 "nbformat_minor": 5
}
