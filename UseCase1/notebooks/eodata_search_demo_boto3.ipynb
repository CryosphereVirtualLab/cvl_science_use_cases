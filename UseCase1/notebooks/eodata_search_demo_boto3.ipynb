{
 "cells": [
  {
   "cell_type": "code",
   "execution_count": 1,
   "id": "3e92e2e1-c9d4-4edc-b4db-1b6a10fd5130",
   "metadata": {
    "tags": []
   },
   "outputs": [],
   "source": [
    "#!pip install boto3\n",
    "#!pip install netCDF4"
   ]
  },
  {
   "cell_type": "code",
   "execution_count": 2,
   "id": "e5186502-8642-41f2-b336-1f2f794c3509",
   "metadata": {},
   "outputs": [],
   "source": [
    "import os\n",
    "import datetime as dt\n",
    "\n",
    "import boto3\n",
    "from netCDF4 import Dataset\n",
    "import matplotlib.pyplot as plt\n"
   ]
  },
  {
   "cell_type": "code",
   "execution_count": 3,
   "id": "7ff7d6bf-3bbb-4028-8110-697d4660b665",
   "metadata": {},
   "outputs": [],
   "source": [
    "def get_filename(s3, date, template_0, template_1):\n",
    "    \"\"\" Find filename for a given date \"\"\"\n",
    "    filename = None\n",
    "    prefix = test_date.strftime(template_0)\n",
    "    req_key = test_date.strftime(template_1)\n",
    "    objects = s3.list_objects(Delimiter='/', Bucket=\"DIAS\", Prefix=prefix, MaxKeys=1000)\n",
    "    if 'Contents' in objects:\n",
    "        for cont in objects['Contents']:\n",
    "            if req_key == cont['Key']:\n",
    "                filename = cont['Key']\n",
    "                return filename\n"
   ]
  },
  {
   "cell_type": "code",
   "execution_count": 4,
   "id": "78f10efb-49f9-4c27-80f0-97a19795a6d4",
   "metadata": {},
   "outputs": [],
   "source": [
    "access_key='anystring'\n",
    "secret_key='anystring'\n",
    "\n",
    "host='http://data.cloudferro.com'\n",
    "\n",
    "# search last 5 days\n",
    "tolerance = 5\n",
    "\n",
    "# how to search data by date\n",
    "templates = [\n",
    "    [\n",
    "        'CMEMS/NRT/ARC/PHY/ARCTIC_ANALYSISFORECAST_PHY_ICE_002_011/%Y/%m/%d/',\n",
    "        '%Y%m%d_hr-nersc-MODEL-nextsimf-ARC-b%Y%m%d-fv00.0.nc'\n",
    "    ],\n",
    "    [\n",
    "        'CMEMS/NRT/GLO/SI/SEAICE_GLO_SEAICE_L4_NRT_OBSERVATIONS_011_001/%Y/%m/%d/',\n",
    "        'ice_conc_nh_polstere-100_multi_%Y%m%d1200.nc',\n",
    "    ]\n",
    "]\n",
    "\n",
    "# where to save data for analysis\n",
    "work_dir = '/home/jovyan/work/jupyter_demo/'\n",
    "\n",
    "# how to read data from netcdf files\n",
    "var_names = ['siconc', 'ice_conc']\n",
    "factors = [1, 0.01]"
   ]
  },
  {
   "cell_type": "code",
   "execution_count": 5,
   "id": "c3e10af0-4169-4214-ab9c-5294e744ebdf",
   "metadata": {},
   "outputs": [],
   "source": [
    "# connect to S3\n",
    "s3 = boto3.client('s3',aws_access_key_id=access_key, aws_secret_access_key=secret_key, endpoint_url=host,)"
   ]
  },
  {
   "cell_type": "code",
   "execution_count": 6,
   "id": "cc8e00a5-7a7d-415b-86bf-056d03b7aaaf",
   "metadata": {},
   "outputs": [
    {
     "name": "stdout",
     "output_type": "stream",
     "text": [
      "['CMEMS/NRT/ARC/PHY/ARCTIC_ANALYSISFORECAST_PHY_ICE_002_011/2021/12/14/20211214_hr-nersc-MODEL-nextsimf-ARC-b20211214-fv00.0.nc', 'CMEMS/NRT/GLO/SI/SEAICE_GLO_SEAICE_L4_NRT_OBSERVATIONS_011_001/2021/12/14/ice_conc_nh_polstere-100_multi_202112141200.nc']\n"
     ]
    }
   ],
   "source": [
    "# find the latest remote files\n",
    "test_dates = [dt.datetime.now() - dt.timedelta(i) for i in range(tolerance)]\n",
    "for test_date in test_dates:\n",
    "    rem_files = []\n",
    "    for t0, t1 in templates:\n",
    "        t1 = t0 + t1\n",
    "        rem_files.append(get_filename(s3, test_date, t0, t1))\n",
    "    if rem_files[0] is not None and rem_files[1] is not None:\n",
    "        break\n",
    "\n",
    "print(rem_files)"
   ]
  },
  {
   "cell_type": "code",
   "execution_count": 7,
   "id": "14baa4d6-9c5f-41f0-a6c2-a2c884fc6fd1",
   "metadata": {},
   "outputs": [
    {
     "name": "stdout",
     "output_type": "stream",
     "text": [
      "CMEMS/NRT/ARC/PHY/ARCTIC_ANALYSISFORECAST_PHY_ICE_002_011/2021/12/14/20211214_hr-nersc-MODEL-nextsimf-ARC-b20211214-fv00.0.nc /home/jovyan/work/jupyter_demo/20211214_hr-nersc-MODEL-nextsimf-ARC-b20211214-fv00.0.nc\n",
      "CMEMS/NRT/GLO/SI/SEAICE_GLO_SEAICE_L4_NRT_OBSERVATIONS_011_001/2021/12/14/ice_conc_nh_polstere-100_multi_202112141200.nc /home/jovyan/work/jupyter_demo/ice_conc_nh_polstere-100_multi_202112141200.nc\n"
     ]
    }
   ],
   "source": [
    "# download the latest files\n",
    "loc_files = [os.path.join(work_dir, os.path.basename(i)) for i in rem_files]\n",
    "\n",
    "for rf, lf in zip(rem_files, loc_files):\n",
    "    print(rf, lf)\n",
    "    s3.download_file('DIAS', rf, lf)"
   ]
  },
  {
   "cell_type": "code",
   "execution_count": 8,
   "id": "1f8c3661-fe22-42be-9139-85838268c3b1",
   "metadata": {},
   "outputs": [
    {
     "name": "stdout",
     "output_type": "stream",
     "text": [
      "dict_keys(['stereographic', 'y', 'x', 'longitude', 'latitude', 'time', 'time_bnds', 'siconc', 'sithick', 'sisnthick', 'vxsi', 'vysi'])\n"
     ]
    },
    {
     "data": {
      "image/png": "[encoded data removed]",
      "text/plain": [
       "<Figure size 432x288 with 1 Axes>"
      ]
     },
     "metadata": {
      "needs_background": "light"
     },
     "output_type": "display_data"
    },
    {
     "name": "stdout",
     "output_type": "stream",
     "text": [
      "dict_keys(['Polar_Stereographic_Grid', 'time', 'time_bnds', 'xc', 'yc', 'lat', 'lon', 'ice_conc', 'ice_conc_unfiltered', 'masks', 'confidence_level', 'status_flag', 'total_uncertainty', 'smearing_uncertainty', 'algorithm_uncertainty'])\n"
     ]
    },
    {
     "data": {
      "image/png": "[encoded data removed]",
      "text/plain": [
       "<Figure size 432x288 with 1 Axes>"
      ]
     },
     "metadata": {
      "needs_background": "light"
     },
     "output_type": "display_data"
    }
   ],
   "source": [
    "# plot the latest files\n",
    "for lf, var_name, factor in zip(loc_files, var_names, factors):\n",
    "    nextsim_ds = Dataset(lf)\n",
    "    print(nextsim_ds.variables.keys())\n",
    "    n_sic = nextsim_ds[var_name][0] * factor\n",
    "\n",
    "    plt.imshow(n_sic)\n",
    "    plt.show()"
   ]
  },
  {
   "cell_type": "code",
   "execution_count": null,
   "id": "148236e3-40ae-4d59-ad7b-38014aecf81f",
   "metadata": {},
   "outputs": [],
   "source": []
  }
 ],
 "metadata": {
  "kernelspec": {
   "display_name": "Python 3 (ipykernel)",
   "language": "python",
   "name": "python3"
  },
  "language_info": {
   "codemirror_mode": {
    "name": "ipython",
    "version": 3
   },
   "file_extension": ".py",
   "mimetype": "text/x-python",
   "name": "python",
   "nbconvert_exporter": "python",
   "pygments_lexer": "ipython3",
   "version": "3.9.7"
  }
 },
 "nbformat": 4,
 "nbformat_minor": 5
}
